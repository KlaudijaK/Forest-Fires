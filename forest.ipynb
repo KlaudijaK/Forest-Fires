{
 "cells": [
  {
   "cell_type": "code",
   "execution_count": 51,
   "id": "b5bf2f9f-f185-406b-83de-5720bc7435ad",
   "metadata": {},
   "outputs": [
    {
     "name": "stdout",
     "output_type": "stream",
     "text": [
      "Requirement already satisfied: ucimlrepo in c:\\users\\pedro\\anaconda3\\lib\\site-packages (0.0.7)\n",
      "Requirement already satisfied: pandas>=1.0.0 in c:\\users\\pedro\\anaconda3\\lib\\site-packages (from ucimlrepo) (2.2.2)\n",
      "Requirement already satisfied: certifi>=2020.12.5 in c:\\users\\pedro\\anaconda3\\lib\\site-packages (from ucimlrepo) (2024.8.30)\n",
      "Requirement already satisfied: numpy>=1.26.0 in c:\\users\\pedro\\anaconda3\\lib\\site-packages (from pandas>=1.0.0->ucimlrepo) (1.26.4)\n",
      "Requirement already satisfied: python-dateutil>=2.8.2 in c:\\users\\pedro\\anaconda3\\lib\\site-packages (from pandas>=1.0.0->ucimlrepo) (2.9.0.post0)\n",
      "Requirement already satisfied: pytz>=2020.1 in c:\\users\\pedro\\anaconda3\\lib\\site-packages (from pandas>=1.0.0->ucimlrepo) (2024.1)\n",
      "Requirement already satisfied: tzdata>=2022.7 in c:\\users\\pedro\\anaconda3\\lib\\site-packages (from pandas>=1.0.0->ucimlrepo) (2023.3)\n",
      "Requirement already satisfied: six>=1.5 in c:\\users\\pedro\\anaconda3\\lib\\site-packages (from python-dateutil>=2.8.2->pandas>=1.0.0->ucimlrepo) (1.16.0)\n",
      "Note: you may need to restart the kernel to use updated packages.\n"
     ]
    }
   ],
   "source": [
    "pip install ucimlrepo"
   ]
  },
  {
   "cell_type": "code",
   "execution_count": 59,
   "id": "3cb08034-67a4-456d-bcd3-1015c63a998f",
   "metadata": {},
   "outputs": [],
   "source": [
    "import pandas as pd\n",
    "import numpy as np\n"
   ]
  },
  {
   "cell_type": "code",
   "execution_count": 60,
   "id": "ef47b735",
   "metadata": {},
   "outputs": [],
   "source": [
    "url = 'https://archive.ics.uci.edu/ml/machine-learning-databases/forest-fires/forestfires.csv'\n",
    "df = pd.read_csv(url)"
   ]
  },
  {
   "cell_type": "code",
   "execution_count": 61,
   "id": "543ec519-01f4-4a69-b559-310692b705f1",
   "metadata": {},
   "outputs": [
    {
     "name": "stdout",
     "output_type": "stream",
     "text": [
      "{'uci_id': 162, 'name': 'Forest Fires', 'repository_url': 'https://archive.ics.uci.edu/dataset/162/forest+fires', 'data_url': 'https://archive.ics.uci.edu/static/public/162/data.csv', 'abstract': 'This is a difficult regression task, where the aim is to predict the burned area of forest fires, in the northeast region of Portugal, by using meteorological and other data (see details at: http://www.dsi.uminho.pt/~pcortez/forestfires).', 'area': 'Climate and Environment', 'tasks': ['Regression'], 'characteristics': ['Multivariate'], 'num_instances': 517, 'num_features': 12, 'feature_types': ['Real'], 'demographics': [], 'target_col': ['area'], 'index_col': None, 'has_missing_values': 'no', 'missing_values_symbol': None, 'year_of_dataset_creation': 2007, 'last_updated': 'Thu Jan 11 2024', 'dataset_doi': '10.24432/C5D88D', 'creators': ['Paulo Cortez', 'Anbal Morais'], 'intro_paper': {'ID': 368, 'type': 'NATIVE', 'title': 'A data mining approach to predict forest fires using meteorological data', 'authors': 'P. Cortez, Aníbal de Jesus Raimundo Morais', 'venue': 'New Trends in Artificial Intelligence, Proceedings of the 13th EPIA 2007 - Portuguese Conference on Artificial Intelligence', 'year': 2007, 'journal': None, 'DOI': None, 'URL': 'https://www.semanticscholar.org/paper/A-data-mining-approach-to-predict-forest-fires-data-Cortez-Morais/0f529dc2b2b2bad22394454d4cba79e2c319f0b0', 'sha': None, 'corpus': None, 'arxiv': None, 'mag': None, 'acl': None, 'pmid': None, 'pmcid': None}, 'additional_info': {'summary': \"In [Cortez and Morais, 2007], the output 'area' was first transformed with a ln(x+1) function.\\r\\n   Then, several Data Mining methods were applied. After fitting the models, the outputs were\\r\\n   post-processed with the inverse of the ln(x+1) transform. Four different input setups were\\r\\n   used. The experiments were conducted using a 10-fold (cross-validation) x 30 runs. Two\\r\\n   regression metrics were measured: MAD and RMSE. A Gaussian support vector machine (SVM) fed\\r\\n   with only 4 direct weather conditions (temp, RH, wind and rain) obtained the best MAD value:\\r\\n   12.71 +- 0.01 (mean and confidence interval within 95% using a t-student distribution). The\\r\\n   best RMSE was attained by the naive mean predictor. An analysis to the regression error curve\\r\\n   (REC) shows that the SVM model predicts more examples within a lower admitted error. In effect,\\r\\n   the SVM model predicts better small fires, which are the majority. \", 'purpose': None, 'funded_by': None, 'instances_represent': None, 'recommended_data_splits': None, 'sensitive_data': None, 'preprocessing_description': None, 'variable_info': \"For more information, read [Cortez and Morais, 2007].\\r\\n   1. X - x-axis spatial coordinate within the Montesinho park map: 1 to 9\\r\\n   2. Y - y-axis spatial coordinate within the Montesinho park map: 2 to 9\\r\\n   3. month - month of the year: 'jan' to 'dec' \\r\\n   4. day - day of the week: 'mon' to 'sun'\\r\\n   5. FFMC - FFMC index from the FWI system: 18.7 to 96.20\\r\\n   6. DMC - DMC index from the FWI system: 1.1 to 291.3 \\r\\n   7. DC - DC index from the FWI system: 7.9 to 860.6 \\r\\n   8. ISI - ISI index from the FWI system: 0.0 to 56.10\\r\\n   9. temp - temperature in Celsius degrees: 2.2 to 33.30\\r\\n   10. RH - relative humidity in %: 15.0 to 100\\r\\n   11. wind - wind speed in km/h: 0.40 to 9.40 \\r\\n   12. rain - outside rain in mm/m2 : 0.0 to 6.4 \\r\\n   13. area - the burned area of the forest (in ha): 0.00 to 1090.84 \\r\\n   (this output variable is very skewed towards 0.0, thus it may make\\r\\n    sense to model with the logarithm transform).\", 'citation': None}}\n"
     ]
    }
   ],
   "source": [
    "from ucimlrepo import fetch_ucirepo\n",
    "\n",
    "forest_fires = fetch_ucirepo(id=162)\n",
    "X = forest_fires.data.features\n",
    "y = forest_fires.data.targets\n",
    "print(forest_fires.metadata)"
   ]
  },
  {
   "cell_type": "code",
   "execution_count": 62,
   "id": "5ca7a477-aa9b-43ab-adcd-1c52676c1a37",
   "metadata": {},
   "outputs": [
    {
     "name": "stdout",
     "output_type": "stream",
     "text": [
      "   X  Y month  day  FFMC   DMC     DC  ISI  temp  RH  wind  rain  area\n",
      "0  7  5   mar  fri  86.2  26.2   94.3  5.1   8.2  51   6.7   0.0   0.0\n",
      "1  7  4   oct  tue  90.6  35.4  669.1  6.7  18.0  33   0.9   0.0   0.0\n",
      "2  7  4   oct  sat  90.6  43.7  686.9  6.7  14.6  33   1.3   0.0   0.0\n",
      "3  8  6   mar  fri  91.7  33.3   77.5  9.0   8.3  97   4.0   0.2   0.0\n",
      "4  8  6   mar  sun  89.3  51.3  102.2  9.6  11.4  99   1.8   0.0   0.0\n"
     ]
    }
   ],
   "source": [
    "print(df.head())"
   ]
  },
  {
   "cell_type": "code",
   "execution_count": 55,
   "id": "16eb0a5e-a764-479c-a8db-560549704158",
   "metadata": {},
   "outputs": [],
   "source": [
    "# X – x-axis spatial coordinate within the Montesinho park map (integer: 1 to 9).\n",
    "\n",
    "# Y – y-axis spatial coordinate within the Montesinho park map (integer: 2 to 9).\n",
    "\n",
    "# month – month of the year (categorical: 'jan' to 'dec').\n",
    "\n",
    "# day – day of the week (categorical: 'mon' to 'sun').\n",
    "\n",
    "# FFMC – Fine Fuel Moisture Code from the FWI system (numeric: 18.7 to 96.20). Represents the moisture of surface litter and fine fuels.\n",
    "\n",
    "# DMC – Duff Moisture Code (numeric: 1.1 to 291.3). Represents moisture in loosely compacted organic layers of moderate depth.\n",
    "\n",
    "# DC – Drought Code (numeric: 7.9 to 860.6). Represents long-term drought effects on deep organic layers.\n",
    "\n",
    "# ISI – Initial Spread Index (numeric: 0.0 to 56.10). Indicates the rate of fire spread.\n",
    "\n",
    "# temp – Temperature in Celsius (numeric: 2.2 to 33.30).\n",
    "\n",
    "# RH – Relative Humidity in % (numeric: 15 to 100).\n",
    "\n",
    "# wind – Wind speed in km/h (numeric: 0.40 to 9.40).\n",
    "\n",
    "# rain – Rainfall in mm/m² (numeric: 0.0 to 6.4).\n",
    "\n",
    "# area – The burned area of the forest (numeric: 0.00 to 1090.84 hectares). Note: the distribution is highly skewed; many zeros represent no fires."
   ]
  },
  {
   "cell_type": "code",
   "execution_count": 63,
   "id": "375da41d-e09e-4c7e-98df-6be1591279ba",
   "metadata": {},
   "outputs": [
    {
     "name": "stdout",
     "output_type": "stream",
     "text": [
      "X        517\n",
      "Y        517\n",
      "month    517\n",
      "day      517\n",
      "FFMC     517\n",
      "DMC      517\n",
      "DC       517\n",
      "ISI      517\n",
      "temp     517\n",
      "RH       517\n",
      "wind     517\n",
      "rain     517\n",
      "area     517\n",
      "dtype: int64\n"
     ]
    }
   ],
   "source": [
    "print(df.count())"
   ]
  },
  {
   "cell_type": "code",
   "execution_count": 65,
   "id": "5b263be3",
   "metadata": {},
   "outputs": [
    {
     "name": "stdout",
     "output_type": "stream",
     "text": [
      "X          int64\n",
      "Y          int64\n",
      "month     object\n",
      "day       object\n",
      "FFMC     float64\n",
      "DMC      float64\n",
      "DC       float64\n",
      "ISI      float64\n",
      "temp     float64\n",
      "RH         int64\n",
      "wind     float64\n",
      "rain     float64\n",
      "area     float64\n",
      "dtype: object\n"
     ]
    }
   ],
   "source": [
    "print(df.dtypes)"
   ]
  },
  {
   "cell_type": "code",
   "execution_count": null,
   "id": "735d1c80",
   "metadata": {},
   "outputs": [],
   "source": [
    "# Change categorical columns to numeric\n",
    "\n",
    "df.columns = df.columns.str.strip().str.lower()\n",
    "\n",
    "month_map = {\n",
    "    'jan': 1, 'feb': 2, 'mar': 3, 'apr': 4, 'may': 5, 'jun': 6,\n",
    "    'jul': 7, 'aug': 8, 'sep': 9, 'oct': 10, 'nov': 11, 'dec': 12\n",
    "}\n",
    "\n",
    "df['month'] = df['month'].map(month_map)\n",
    "\n",
    "\n",
    "day_map = {\n",
    "    'mon': 1,\n",
    "    'tue': 2,\n",
    "    'wed': 3,\n",
    "    'thu': 4,\n",
    "    'fri': 5,\n",
    "    'sat': 6,\n",
    "    'sun': 7\n",
    "}\n",
    "\n",
    "df['day'] = df['day'].map(day_map)\n",
    "\n"
   ]
  },
  {
   "cell_type": "code",
   "execution_count": null,
   "id": "d3526a29",
   "metadata": {},
   "outputs": [],
   "source": [
    "# Drop columns X and Y\n",
    "\n",
    "df = df.drop(['x', 'y'], axis=1)"
   ]
  },
  {
   "cell_type": "code",
   "execution_count": null,
   "id": "7f625b3b",
   "metadata": {},
   "outputs": [],
   "source": [
    "# Rename columns\n",
    "\n",
    "df = df.rename(columns={\n",
    "    'ffmc': 'Fine_Fuel_Moisture_Code',\n",
    "    'dmc': 'Duff_Moisture_Code',\n",
    "    'dc': 'Drought_Code',\n",
    "    'isi': 'Initial_Spread_Index',\n",
    "    'temp': 'Temperature',\n",
    "    'rh': 'Humidity',\n",
    "    'wind': 'WindSpeed',\n",
    "    'rain': 'Rainfall',\n",
    "    'area': 'BurnedArea'\n",
    "})"
   ]
  },
  {
   "cell_type": "code",
   "execution_count": 73,
   "id": "a31ca24c",
   "metadata": {},
   "outputs": [
    {
     "name": "stdout",
     "output_type": "stream",
     "text": [
      "   month  day  Fine_Fuel_Moisture_Code  Duff_Moisture_Code  Drought_Code  \\\n",
      "0      3    5                     86.2                26.2          94.3   \n",
      "1     10    2                     90.6                35.4         669.1   \n",
      "2     10    6                     90.6                43.7         686.9   \n",
      "3      3    5                     91.7                33.3          77.5   \n",
      "4      3    7                     89.3                51.3         102.2   \n",
      "\n",
      "   Initial_Spread_Index  Temperature  Humidity  WindSpeed  Rainfall  \\\n",
      "0                   5.1          8.2        51        6.7       0.0   \n",
      "1                   6.7         18.0        33        0.9       0.0   \n",
      "2                   6.7         14.6        33        1.3       0.0   \n",
      "3                   9.0          8.3        97        4.0       0.2   \n",
      "4                   9.6         11.4        99        1.8       0.0   \n",
      "\n",
      "   BurnedArea  \n",
      "0         0.0  \n",
      "1         0.0  \n",
      "2         0.0  \n",
      "3         0.0  \n",
      "4         0.0  \n"
     ]
    }
   ],
   "source": [
    "print(df.head())"
   ]
  }
 ],
 "metadata": {
  "kernelspec": {
   "display_name": "base",
   "language": "python",
   "name": "python3"
  },
  "language_info": {
   "codemirror_mode": {
    "name": "ipython",
    "version": 3
   },
   "file_extension": ".py",
   "mimetype": "text/x-python",
   "name": "python",
   "nbconvert_exporter": "python",
   "pygments_lexer": "ipython3",
   "version": "3.12.7"
  }
 },
 "nbformat": 4,
 "nbformat_minor": 5
}
